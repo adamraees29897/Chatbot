{
 "cells": [
  {
   "cell_type": "code",
   "execution_count": 1,
   "id": "b9793420",
   "metadata": {},
   "outputs": [
    {
     "name": "stderr",
     "output_type": "stream",
     "text": [
      "2023-03-14 13:53:37.539706: I tensorflow/core/platform/cpu_feature_guard.cc:193] This TensorFlow binary is optimized with oneAPI Deep Neural Network Library (oneDNN) to use the following CPU instructions in performance-critical operations:  AVX2 FMA\n",
      "To enable them in other operations, rebuild TensorFlow with the appropriate compiler flags.\n"
     ]
    },
    {
     "name": "stdout",
     "output_type": "stream",
     "text": [
      "pygame 2.2.0 (SDL 2.0.22, Python 3.9.12)\n",
      "Hello from the pygame community. https://www.pygame.org/contribute.html\n"
     ]
    }
   ],
   "source": [
    "import json\n",
    "import numpy as np\n",
    "from keras.models import load_model\n",
    "from sklearn.preprocessing import LabelEncoder\n",
    "from tensorflow.keras.preprocessing.sequence import pad_sequences\n",
    "import datetime\n",
    "from news_data import news_search\n",
    "import billboard\n",
    "import time\n",
    "from pygame import mixer\n",
    "from search import search_internet\n",
    "from weather import weather_data\n",
    "\n",
    "import random\n",
    "import pickle"
   ]
  },
  {
   "cell_type": "code",
   "execution_count": 2,
   "id": "53b01c52",
   "metadata": {},
   "outputs": [],
   "source": [
    "with open('intents.json') as file:\n",
    "    data = json.load(file)\n",
    "labels = pickle.load(open('labels.pkl','rb'))"
   ]
  },
  {
   "cell_type": "code",
   "execution_count": 3,
   "id": "a315bc71",
   "metadata": {},
   "outputs": [
    {
     "name": "stderr",
     "output_type": "stream",
     "text": [
      "2023-03-14 13:53:54.569504: I tensorflow/core/platform/cpu_feature_guard.cc:193] This TensorFlow binary is optimized with oneAPI Deep Neural Network Library (oneDNN) to use the following CPU instructions in performance-critical operations:  AVX2 FMA\n",
      "To enable them in other operations, rebuild TensorFlow with the appropriate compiler flags.\n"
     ]
    }
   ],
   "source": [
    "# load trained model\n",
    "model = load_model('my_model.h5')\n",
    "\n",
    "# load tokenizer\n",
    "with open('tokenizer.pickle', 'rb') as token:\n",
    "        tokenizer = pickle.load(token)\n",
    "        \n",
    "# load label encoder\n",
    "with open('label_encoder.pickle', 'rb') as enc:\n",
    "    label_enc = pickle.load(enc)\n",
    "    \n",
    "max_len = 20    "
   ]
  },
  {
   "cell_type": "code",
   "execution_count": 4,
   "id": "ea0dfc50",
   "metadata": {},
   "outputs": [],
   "source": [
    "def predict_label(x):\n",
    "    result = model.predict(pad_sequences(tokenizer.texts_to_sequences([x]),\n",
    "                                         truncating='post', maxlen = max_len))\n",
    "    tag = label_enc.inverse_transform([np.argmax(result)])\n",
    "    return tag    "
   ]
  },
  {
   "cell_type": "code",
   "execution_count": 5,
   "id": "297a7937",
   "metadata": {},
   "outputs": [],
   "source": [
    "def getting_response(data, tag):\n",
    "    \n",
    "    intent_list = data['intents']\n",
    "    \n",
    "    if tag == 'time':\n",
    "        print(time.strftime(\"%H:%M\"))\n",
    "        \n",
    "    if tag == 'date':\n",
    "        print(time.strftime(\"%A %d %B %Y\"))\n",
    "    \n",
    "    if tag == 'google':\n",
    "        # to search\n",
    "        search_internet.search_google(data)\n",
    "        \n",
    "    if tag=='news':\n",
    "        print(news_search.news())\n",
    "        \n",
    "    \n",
    "    if tag=='song':\n",
    "        chart = billboard.ChartData('hot-100')\n",
    "        print('The top 10 songs at the moment are:')\n",
    "        for i in range(10):\n",
    "            song = chart[i]\n",
    "            print(song.title,'- ',song.artist)\n",
    "    \n",
    "    if tag=='timer':        \n",
    "        mixer.init()\n",
    "        x = input('min: ')\n",
    "        y = input('sec: ')\n",
    "        time.sleep(float(x)*60+int(y))\n",
    "        mixer.music.load('Handbell-ringing-sound-effect.mp3')\n",
    "        mixer.music.play()\n",
    "    \n",
    "    if tag==\"weather\":\n",
    "        weather_data.weather()\n",
    "    \n",
    "    if tag==\"wikipedia\":\n",
    "        search_internet.wiki_summary(data)\n",
    "    \n",
    "    \n",
    "    for i in intent_list:\n",
    "        if tag == i['tag']:\n",
    "            result = random.choice(i['responses'])\n",
    "    return result\n",
    "        "
   ]
  },
  {
   "cell_type": "code",
   "execution_count": 8,
   "id": "377e55b7",
   "metadata": {},
   "outputs": [
    {
     "name": "stdout",
     "output_type": "stream",
     "text": [
      "Initiating 'SAM' \n",
      "Start messaging with the bot (Type: 'bye' or 'quit' or 'exit' to terminate)\n",
      "You: latest nes\n",
      "1/1 [==============================] - 0s 33ms/step\n",
      "Sam: Glad I could make you laugh !\n",
      "You: latest news\n",
      "1/1 [==============================] - 0s 32ms/step\n",
      "Sam: Country: uae\n",
      "Which category are you interested in?\n",
      "1.Business\n",
      "2.Entertainment\n",
      "3.General\n",
      "4.Health\n",
      "5.Science\n",
      "6.Technology\n",
      "\n",
      "Enter here: science\n",
      "Here are the top news\n"
     ]
    },
    {
     "ename": "ValueError",
     "evalue": "invalid country",
     "output_type": "error",
     "traceback": [
      "\u001b[0;31m---------------------------------------------------------------------------\u001b[0m",
      "\u001b[0;31mValueError\u001b[0m                                Traceback (most recent call last)",
      "Cell \u001b[0;32mIn[8], line 11\u001b[0m\n\u001b[1;32m      8\u001b[0m         \u001b[38;5;28mprint\u001b[39m(\u001b[38;5;124m'\u001b[39m\u001b[38;5;124mSam: \u001b[39m\u001b[38;5;124m'\u001b[39m,end \u001b[38;5;241m=\u001b[39m \u001b[38;5;124m'\u001b[39m\u001b[38;5;124m'\u001b[39m)\n\u001b[1;32m      9\u001b[0m         \u001b[38;5;28mprint\u001b[39m(getting_response(data, tag))\n\u001b[0;32m---> 11\u001b[0m \u001b[43mchat\u001b[49m\u001b[43m(\u001b[49m\u001b[43m)\u001b[49m\n",
      "Cell \u001b[0;32mIn[8], line 9\u001b[0m, in \u001b[0;36mchat\u001b[0;34m()\u001b[0m\n\u001b[1;32m      7\u001b[0m     \u001b[38;5;28;01mbreak\u001b[39;00m\n\u001b[1;32m      8\u001b[0m \u001b[38;5;28mprint\u001b[39m(\u001b[38;5;124m'\u001b[39m\u001b[38;5;124mSam: \u001b[39m\u001b[38;5;124m'\u001b[39m,end \u001b[38;5;241m=\u001b[39m \u001b[38;5;124m'\u001b[39m\u001b[38;5;124m'\u001b[39m)\n\u001b[0;32m----> 9\u001b[0m \u001b[38;5;28mprint\u001b[39m(\u001b[43mgetting_response\u001b[49m\u001b[43m(\u001b[49m\u001b[43mdata\u001b[49m\u001b[43m,\u001b[49m\u001b[43m \u001b[49m\u001b[43mtag\u001b[49m\u001b[43m)\u001b[49m)\n",
      "Cell \u001b[0;32mIn[5], line 16\u001b[0m, in \u001b[0;36mgetting_response\u001b[0;34m(data, tag)\u001b[0m\n\u001b[1;32m     13\u001b[0m     search_internet\u001b[38;5;241m.\u001b[39msearch_google(data)\n\u001b[1;32m     15\u001b[0m \u001b[38;5;28;01mif\u001b[39;00m tag\u001b[38;5;241m==\u001b[39m\u001b[38;5;124m'\u001b[39m\u001b[38;5;124mnews\u001b[39m\u001b[38;5;124m'\u001b[39m:\n\u001b[0;32m---> 16\u001b[0m     \u001b[38;5;28mprint\u001b[39m(\u001b[43mnews_search\u001b[49m\u001b[38;5;241;43m.\u001b[39;49m\u001b[43mnews\u001b[49m\u001b[43m(\u001b[49m\u001b[43m)\u001b[49m)\n\u001b[1;32m     19\u001b[0m \u001b[38;5;28;01mif\u001b[39;00m tag\u001b[38;5;241m==\u001b[39m\u001b[38;5;124m'\u001b[39m\u001b[38;5;124msong\u001b[39m\u001b[38;5;124m'\u001b[39m:\n\u001b[1;32m     20\u001b[0m     chart \u001b[38;5;241m=\u001b[39m billboard\u001b[38;5;241m.\u001b[39mChartData(\u001b[38;5;124m'\u001b[39m\u001b[38;5;124mhot-100\u001b[39m\u001b[38;5;124m'\u001b[39m)\n",
      "File \u001b[0;32m~/Projects/project_4_Chatbot/news_data.py:33\u001b[0m, in \u001b[0;36mnews_search.news\u001b[0;34m()\u001b[0m\n\u001b[1;32m     31\u001b[0m \u001b[38;5;28mprint\u001b[39m(\u001b[38;5;124m'\u001b[39m\u001b[38;5;124mHere are the top news\u001b[39m\u001b[38;5;124m'\u001b[39m)\n\u001b[1;32m     32\u001b[0m \u001b[38;5;66;03m# now we will fetch the new according to the choice of the user\u001b[39;00m\n\u001b[0;32m---> 33\u001b[0m top_headlines \u001b[38;5;241m=\u001b[39m \u001b[43mnewsapi\u001b[49m\u001b[38;5;241;43m.\u001b[39;49m\u001b[43mget_top_headlines\u001b[49m\u001b[43m(\u001b[49m\n\u001b[1;32m     34\u001b[0m \n\u001b[1;32m     35\u001b[0m \u001b[43m    \u001b[49m\u001b[38;5;66;43;03m# getting top headlines from all the news channels\u001b[39;49;00m\n\u001b[1;32m     36\u001b[0m \u001b[43m    \u001b[49m\u001b[43mcategory\u001b[49m\u001b[38;5;241;43m=\u001b[39;49m\u001b[38;5;124;43mf\u001b[39;49m\u001b[38;5;124;43m'\u001b[39;49m\u001b[38;5;132;43;01m{\u001b[39;49;00m\u001b[43moption\u001b[49m\u001b[38;5;241;43m.\u001b[39;49m\u001b[43mlower\u001b[49m\u001b[43m(\u001b[49m\u001b[43m)\u001b[49m\u001b[38;5;132;43;01m}\u001b[39;49;00m\u001b[38;5;124;43m'\u001b[39;49m\u001b[43m,\u001b[49m\u001b[43m \u001b[49m\u001b[43mlanguage\u001b[49m\u001b[38;5;241;43m=\u001b[39;49m\u001b[38;5;124;43m'\u001b[39;49m\u001b[38;5;124;43men\u001b[39;49m\u001b[38;5;124;43m'\u001b[39;49m\u001b[43m,\u001b[49m\u001b[43m \u001b[49m\u001b[43mcountry\u001b[49m\u001b[38;5;241;43m=\u001b[39;49m\u001b[38;5;124;43mf\u001b[39;49m\u001b[38;5;124;43m'\u001b[39;49m\u001b[38;5;132;43;01m{\u001b[39;49;00m\u001b[43mcodes\u001b[49m\u001b[43m[\u001b[49m\u001b[38;5;241;43m0\u001b[39;49m\u001b[43m]\u001b[49m\u001b[38;5;241;43m.\u001b[39;49m\u001b[43mlower\u001b[49m\u001b[43m(\u001b[49m\u001b[43m)\u001b[49m\u001b[38;5;132;43;01m}\u001b[39;49;00m\u001b[38;5;124;43m'\u001b[39;49m\u001b[43m)\u001b[49m\n\u001b[1;32m     38\u001b[0m \u001b[38;5;66;03m# fetch the top news under that category\u001b[39;00m\n\u001b[1;32m     39\u001b[0m Headlines \u001b[38;5;241m=\u001b[39m top_headlines[\u001b[38;5;124m'\u001b[39m\u001b[38;5;124marticles\u001b[39m\u001b[38;5;124m'\u001b[39m]\n",
      "File \u001b[0;32m~/opt/anaconda3/lib/python3.9/site-packages/newsapi/newsapi_client.py:130\u001b[0m, in \u001b[0;36mNewsApiClient.get_top_headlines\u001b[0;34m(self, q, qintitle, sources, language, country, category, page_size, page)\u001b[0m\n\u001b[1;32m    128\u001b[0m         payload[\u001b[38;5;124m\"\u001b[39m\u001b[38;5;124mcountry\u001b[39m\u001b[38;5;124m\"\u001b[39m] \u001b[38;5;241m=\u001b[39m country\n\u001b[1;32m    129\u001b[0m     \u001b[38;5;28;01melse\u001b[39;00m:\n\u001b[0;32m--> 130\u001b[0m         \u001b[38;5;28;01mraise\u001b[39;00m \u001b[38;5;167;01mValueError\u001b[39;00m(\u001b[38;5;124m\"\u001b[39m\u001b[38;5;124minvalid country\u001b[39m\u001b[38;5;124m\"\u001b[39m)\n\u001b[1;32m    131\u001b[0m \u001b[38;5;28;01melse\u001b[39;00m:\n\u001b[1;32m    132\u001b[0m     \u001b[38;5;28;01mraise\u001b[39;00m \u001b[38;5;167;01mTypeError\u001b[39;00m(\u001b[38;5;124m\"\u001b[39m\u001b[38;5;124mcountry param should be of type str\u001b[39m\u001b[38;5;124m\"\u001b[39m)\n",
      "\u001b[0;31mValueError\u001b[0m: invalid country"
     ]
    }
   ],
   "source": [
    "def chat():\n",
    "    print(\"Initiating 'SAM' \\nStart messaging with the bot (Type: 'bye' or 'quit' or 'exit' to terminate)\")\n",
    "    while True:\n",
    "        user_input = input(\"You: \")\n",
    "        tag = predict_label(user_input)\n",
    "        if tag == 'goodbye':\n",
    "            break\n",
    "        print('Sam: ',end = '')\n",
    "        print(getting_response(data, tag))\n",
    "                 \n",
    "chat()"
   ]
  },
  {
   "cell_type": "code",
   "execution_count": null,
   "id": "082cf3ae",
   "metadata": {},
   "outputs": [],
   "source": []
  }
 ],
 "metadata": {
  "kernelspec": {
   "display_name": "Python 3 (ipykernel)",
   "language": "python",
   "name": "python3"
  },
  "language_info": {
   "codemirror_mode": {
    "name": "ipython",
    "version": 3
   },
   "file_extension": ".py",
   "mimetype": "text/x-python",
   "name": "python",
   "nbconvert_exporter": "python",
   "pygments_lexer": "ipython3",
   "version": "3.9.12"
  }
 },
 "nbformat": 4,
 "nbformat_minor": 5
}
